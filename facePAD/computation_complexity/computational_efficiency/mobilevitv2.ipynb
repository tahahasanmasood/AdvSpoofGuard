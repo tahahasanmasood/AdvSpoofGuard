{
 "cells": [
  {
   "cell_type": "code",
   "execution_count": 4,
   "metadata": {},
   "outputs": [],
   "source": [
    "#To provide server to VPN_access via PC\n",
    "import os\n",
    "os.environ['http_proxy'] = 'http://10.162.68.203:5555'\n",
    "os.environ['https_proxy'] = 'http://10.162.68.203:5555'"
   ]
  },
  {
   "cell_type": "code",
   "execution_count": 5,
   "metadata": {},
   "outputs": [],
   "source": [
    "import torch\n",
    "import torchvision.models as models\n",
    "import torchprofile\n",
    "import time\n",
    "import pandas as pd\n",
    "import matplotlib.pyplot as plt\n",
    "import torch.nn as nn\n",
    "from torchsummary import summary"
   ]
  },
  {
   "cell_type": "code",
   "execution_count": 6,
   "metadata": {},
   "outputs": [],
   "source": [
    "# Set device to GPU if available\n",
    "device = torch.device(\"cuda\" if torch.cuda.is_available() else \"cpu\")"
   ]
  },
  {
   "cell_type": "code",
   "execution_count": 7,
   "metadata": {},
   "outputs": [
    {
     "data": {
      "text/plain": [
       "========================================================================================================================\n",
       "Layer (type:depth-idx)                        Input Shape               Output Shape              Param #\n",
       "========================================================================================================================\n",
       "MobileNetV1ForImageClassification             [1, 3, 256, 256]          [1, 2]                    --\n",
       "├─MobileNetV1Model: 1-1                       [1, 3, 256, 256]          [1, 1024]                 --\n",
       "│    └─MobileNetV1ConvLayer: 2-1              [1, 3, 256, 256]          [1, 32, 128, 128]         --\n",
       "│    │    └─Conv2d: 3-1                       [1, 3, 257, 257]          [1, 32, 128, 128]         864\n",
       "│    │    └─BatchNorm2d: 3-2                  [1, 32, 128, 128]         [1, 32, 128, 128]         64\n",
       "│    │    └─ReLU6: 3-3                        [1, 32, 128, 128]         [1, 32, 128, 128]         --\n",
       "│    └─ModuleList: 2-2                        --                        --                        --\n",
       "│    │    └─MobileNetV1ConvLayer: 3-4         [1, 32, 128, 128]         [1, 32, 128, 128]         352\n",
       "│    │    └─MobileNetV1ConvLayer: 3-5         [1, 32, 128, 128]         [1, 64, 128, 128]         2,176\n",
       "│    │    └─MobileNetV1ConvLayer: 3-6         [1, 64, 128, 128]         [1, 64, 64, 64]           704\n",
       "│    │    └─MobileNetV1ConvLayer: 3-7         [1, 64, 64, 64]           [1, 128, 64, 64]          8,448\n",
       "│    │    └─MobileNetV1ConvLayer: 3-8         [1, 128, 64, 64]          [1, 128, 64, 64]          1,408\n",
       "│    │    └─MobileNetV1ConvLayer: 3-9         [1, 128, 64, 64]          [1, 128, 64, 64]          16,640\n",
       "│    │    └─MobileNetV1ConvLayer: 3-10        [1, 128, 64, 64]          [1, 128, 32, 32]          1,408\n",
       "│    │    └─MobileNetV1ConvLayer: 3-11        [1, 128, 32, 32]          [1, 256, 32, 32]          33,280\n",
       "│    │    └─MobileNetV1ConvLayer: 3-12        [1, 256, 32, 32]          [1, 256, 32, 32]          2,816\n",
       "│    │    └─MobileNetV1ConvLayer: 3-13        [1, 256, 32, 32]          [1, 256, 32, 32]          66,048\n",
       "│    │    └─MobileNetV1ConvLayer: 3-14        [1, 256, 32, 32]          [1, 256, 16, 16]          2,816\n",
       "│    │    └─MobileNetV1ConvLayer: 3-15        [1, 256, 16, 16]          [1, 512, 16, 16]          132,096\n",
       "│    │    └─MobileNetV1ConvLayer: 3-16        [1, 512, 16, 16]          [1, 512, 16, 16]          5,632\n",
       "│    │    └─MobileNetV1ConvLayer: 3-17        [1, 512, 16, 16]          [1, 512, 16, 16]          263,168\n",
       "│    │    └─MobileNetV1ConvLayer: 3-18        [1, 512, 16, 16]          [1, 512, 16, 16]          5,632\n",
       "│    │    └─MobileNetV1ConvLayer: 3-19        [1, 512, 16, 16]          [1, 512, 16, 16]          263,168\n",
       "│    │    └─MobileNetV1ConvLayer: 3-20        [1, 512, 16, 16]          [1, 512, 16, 16]          5,632\n",
       "│    │    └─MobileNetV1ConvLayer: 3-21        [1, 512, 16, 16]          [1, 512, 16, 16]          263,168\n",
       "│    │    └─MobileNetV1ConvLayer: 3-22        [1, 512, 16, 16]          [1, 512, 16, 16]          5,632\n",
       "│    │    └─MobileNetV1ConvLayer: 3-23        [1, 512, 16, 16]          [1, 512, 16, 16]          263,168\n",
       "│    │    └─MobileNetV1ConvLayer: 3-24        [1, 512, 16, 16]          [1, 512, 16, 16]          5,632\n",
       "│    │    └─MobileNetV1ConvLayer: 3-25        [1, 512, 16, 16]          [1, 512, 16, 16]          263,168\n",
       "│    │    └─MobileNetV1ConvLayer: 3-26        [1, 512, 16, 16]          [1, 512, 8, 8]            5,632\n",
       "│    │    └─MobileNetV1ConvLayer: 3-27        [1, 512, 8, 8]            [1, 1024, 8, 8]           526,336\n",
       "│    │    └─MobileNetV1ConvLayer: 3-28        [1, 1024, 8, 8]           [1, 1024, 8, 8]           11,264\n",
       "│    │    └─MobileNetV1ConvLayer: 3-29        [1, 1024, 8, 8]           [1, 1024, 8, 8]           1,050,624\n",
       "│    └─AdaptiveAvgPool2d: 2-3                 [1, 1024, 8, 8]           [1, 1024, 1, 1]           --\n",
       "├─Dropout: 1-2                                [1, 1024]                 [1, 1024]                 --\n",
       "├─Linear: 1-3                                 [1, 1024]                 [1, 2]                    2,050\n",
       "========================================================================================================================\n",
       "Total params: 3,209,026\n",
       "Trainable params: 3,209,026\n",
       "Non-trainable params: 0\n",
       "Total mult-adds (M): 741.53\n",
       "========================================================================================================================\n",
       "Input size (MB): 0.79\n",
       "Forward/backward pass size (MB): 105.38\n",
       "Params size (MB): 12.84\n",
       "Estimated Total Size (MB): 119.00\n",
       "========================================================================================================================"
      ]
     },
     "execution_count": 7,
     "metadata": {},
     "output_type": "execute_result"
    }
   ],
   "source": [
    "from torchinfo import summary\n",
    "import torch\n",
    "import torch.nn as nn\n",
    "from transformers import MobileNetV1ForImageClassification\n",
    "\n",
    "device = torch.device(\"cuda\" if torch.cuda.is_available() else \"cpu\")\n",
    "\n",
    "# Load model\n",
    "model = MobileNetV1ForImageClassification.from_pretrained(\"google/mobilenet_v1_1.0_224\")\n",
    "\n",
    "# Modify classifier layer\n",
    "model.classifier = nn.Linear(in_features=1024, out_features=2)\n",
    "model.to(device)\n",
    "\n",
    "# Run model summary using torchinfo\n",
    "summary(model, input_size=(1, 3, 256, 256), col_names=[\"input_size\", \"output_size\", \"num_params\"])\n"
   ]
  },
  {
   "cell_type": "code",
   "execution_count": 5,
   "metadata": {},
   "outputs": [],
   "source": [
    "input_tensor = torch.randn(1, 3, 256, 256).to(device)"
   ]
  },
  {
   "cell_type": "markdown",
   "metadata": {},
   "source": [
    "https://github.com/zhijian-liu/torchprofile"
   ]
  },
  {
   "cell_type": "code",
   "execution_count": 6,
   "metadata": {},
   "outputs": [
    {
     "name": "stderr",
     "output_type": "stream",
     "text": [
      "/home/taha/anaconda3/envs/pt_fpad/lib/python3.10/site-packages/torchprofile/profile.py:22: UserWarning: No handlers found: \"aten::silu\". Skipped.\n",
      "  warnings.warn('No handlers found: \"{}\". Skipped.'.format(\n",
      "/home/taha/anaconda3/envs/pt_fpad/lib/python3.10/site-packages/torchprofile/profile.py:22: UserWarning: No handlers found: \"aten::im2col\". Skipped.\n",
      "  warnings.warn('No handlers found: \"{}\". Skipped.'.format(\n",
      "/home/taha/anaconda3/envs/pt_fpad/lib/python3.10/site-packages/torchprofile/profile.py:22: UserWarning: No handlers found: \"aten::reshape\". Skipped.\n",
      "  warnings.warn('No handlers found: \"{}\". Skipped.'.format(\n",
      "/home/taha/anaconda3/envs/pt_fpad/lib/python3.10/site-packages/torchprofile/profile.py:22: UserWarning: No handlers found: \"aten::split_with_sizes\". Skipped.\n",
      "  warnings.warn('No handlers found: \"{}\". Skipped.'.format(\n",
      "/home/taha/anaconda3/envs/pt_fpad/lib/python3.10/site-packages/torchprofile/profile.py:22: UserWarning: No handlers found: \"aten::expand_as\". Skipped.\n",
      "  warnings.warn('No handlers found: \"{}\". Skipped.'.format(\n",
      "/home/taha/anaconda3/envs/pt_fpad/lib/python3.10/site-packages/torchprofile/profile.py:22: UserWarning: No handlers found: \"aten::col2im\". Skipped.\n",
      "  warnings.warn('No handlers found: \"{}\". Skipped.'.format(\n"
     ]
    }
   ],
   "source": [
    "# Warm up the GPU\n",
    "with torch.no_grad():\n",
    "    for _ in range(10):\n",
    "        _ = model(input_tensor)\n",
    "\n",
    "# Measure FLOPs\n",
    "with torch.no_grad():\n",
    "    macs = torchprofile.profile_macs(model, args=(input_tensor,))\n",
    "    flops = 2 * macs  # Convert MACs to FLOPs\n",
    "\n",
    "# Measure inference time\n",
    "with torch.no_grad():\n",
    "    start_time = time.time()\n",
    "    for _ in range(100):  # Run multiple inferences\n",
    "        _ = model(input_tensor)\n",
    "    end_time = time.time()\n",
    "\n",
    "# Calculate elapsed time per inference and throughput\n",
    "elapsed_time = (end_time - start_time) / 100  # Average inference time per run\n",
    "tops = (flops / elapsed_time) / 1e12  # Throughput in TOPs"
   ]
  },
  {
   "cell_type": "code",
   "execution_count": 7,
   "metadata": {},
   "outputs": [
    {
     "name": "stdout",
     "output_type": "stream",
     "text": [
      "FLOPs: 3.65 GFLOPs, Inference Time: 10.66 ms, Throughput: 0.34 TOPs\n"
     ]
    }
   ],
   "source": [
    "print(f\"FLOPs: {flops / 1e9:.2f} GFLOPs, \"\n",
    "        f\"Inference Time: {elapsed_time * 1000:.2f} ms, Throughput: {tops:.2f} TOPs\")"
   ]
  }
 ],
 "metadata": {
  "kernelspec": {
   "display_name": "pt_fpad",
   "language": "python",
   "name": "python3"
  },
  "language_info": {
   "codemirror_mode": {
    "name": "ipython",
    "version": 3
   },
   "file_extension": ".py",
   "mimetype": "text/x-python",
   "name": "python",
   "nbconvert_exporter": "python",
   "pygments_lexer": "ipython3",
   "version": "3.10.4"
  }
 },
 "nbformat": 4,
 "nbformat_minor": 2
}
