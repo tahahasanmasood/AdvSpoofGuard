{
 "cells": [
  {
   "cell_type": "code",
   "execution_count": 1,
   "metadata": {},
   "outputs": [],
   "source": [
    "import torch\n",
    "import torch.nn as nn\n",
    "from torch.utils.data import Dataset, DataLoader, ConcatDataset\n",
    "from torchvision import transforms, models\n",
    "import torch.optim as optim\n",
    "import os\n",
    "import random\n",
    "import cv2\n",
    "import numpy as np"
   ]
  },
  {
   "cell_type": "code",
   "execution_count": 2,
   "metadata": {},
   "outputs": [],
   "source": [
    "class_label_real = 0\n",
    "class_label_attack = 1"
   ]
  },
  {
   "cell_type": "markdown",
   "metadata": {},
   "source": [
    "OULU-NPU Dataset Protocol I:  \n",
    "Training -> 1200 (Real 240, Attack 960) \\\n",
    "Validation -> 900 (Real 180, Attack 720) \\\n",
    "Testing -> 600 (Real 120, Attack 480)\n",
    "\n",
    "OULU-NPU Dataset Protocol II:  \n",
    "Training -> 1080 (Real 360, Attack 720) \\\n",
    "Validation -> 810 (Real 270, Attack 540) \\\n",
    "Testing -> 1080 (Real 360, Attack 720)"
   ]
  },
  {
   "cell_type": "code",
   "execution_count": 3,
   "metadata": {},
   "outputs": [],
   "source": [
    "data_path_val_real = '/protocol_I/dev/real'\n",
    "data_path_val_attack = '/protocol_I/dev/attack'"
   ]
  },
  {
   "cell_type": "code",
   "execution_count": 4,
   "metadata": {},
   "outputs": [],
   "source": [
    "def load_samples(path, class_label, transform): #Select N frames returned from read_all_frames and assign labels to all samples of same class\n",
    "        frames = read_all_frames(path)\n",
    "        total_frames = list(range(0, frames.shape[0], 1))\n",
    "        selected_samples = 5\n",
    "        selected_frame = total_frames[selected_samples]\n",
    "        samples =[]\n",
    "        # Assign the same class label to all samples\n",
    "        label = class_label\n",
    "        samples =(transform(frames[selected_frame].squeeze()), label)     \n",
    "        return samples\n",
    "\n",
    "def read_all_frames(video_path): # reads all frames from a particular video and converts them to PyTorch tensors.\n",
    "    frame_list = []\n",
    "    video = cv2.VideoCapture(video_path)\n",
    "    success = True\n",
    "    while success:\n",
    "        success, frame = video.read()\n",
    "        if success:\n",
    "            frame = cv2.resize(frame, (256, 256), interpolation=cv2.INTER_AREA) #framesize kept 256 x 256 \n",
    "            frame_list.append(frame)\n",
    "    frame_list = np.array(frame_list)\n",
    "    return frame_list\n",
    "\n",
    "class VideoDataset(Dataset):\n",
    "    def __init__(self, data_path, class_label):\n",
    "        self.data_path = data_path #path for directory containing video files\n",
    "        self.video_files = [file for file in os.listdir(data_path) if file.endswith('.avi')]\n",
    "        self.class_label = class_label #manually assign class_label for your desired class while loading\n",
    "        self.data_length = len(self.video_files) \n",
    "        self.transform = transforms.Compose([transforms.ToTensor()])\n",
    "\n",
    "    def __len__(self): # returns the total number of samples in the dataset\n",
    "        return self.data_length\n",
    "\n",
    "    def __getitem__(self, idx): # loads and returns a sample from the dataset at the given index\n",
    "        file = self.video_files[idx]\n",
    "        path = os.path.join(self.data_path, file)\n",
    "        frames= load_samples(path, self.class_label, self.transform)\n",
    "\n",
    "        return frames"
   ]
  },
  {
   "cell_type": "code",
   "execution_count": 5,
   "metadata": {},
   "outputs": [],
   "source": [
    "\n",
    "val_dataset_real = VideoDataset(data_path_val_real, class_label_real)\n",
    "val_dataset_attack = VideoDataset(data_path_val_attack, class_label_attack)"
   ]
  },
  {
   "cell_type": "code",
   "execution_count": 6,
   "metadata": {},
   "outputs": [],
   "source": [
    "concatenated_val_dataset = ConcatDataset([val_dataset_real, val_dataset_attack])\n",
    "concatenated_val_loader = DataLoader(concatenated_val_dataset, batch_size=64, shuffle=False, pin_memory=True, num_workers=8)"
   ]
  },
  {
   "cell_type": "code",
   "execution_count": 7,
   "metadata": {},
   "outputs": [
    {
     "name": "stdout",
     "output_type": "stream",
     "text": [
      "Test set size: 900\n"
     ]
    }
   ],
   "source": [
    "# Print dataset sizes\n",
    "print(f\"Test set size: {len(concatenated_val_dataset)}\")"
   ]
  },
  {
   "cell_type": "code",
   "execution_count": 8,
   "metadata": {},
   "outputs": [
    {
     "name": "stderr",
     "output_type": "stream",
     "text": [
      "/home/taha/anaconda3/envs/pt_fpad/lib/python3.10/site-packages/torchvision/models/_utils.py:208: UserWarning: The parameter 'pretrained' is deprecated since 0.13 and may be removed in the future, please use 'weights' instead.\n",
      "  warnings.warn(\n",
      "/home/taha/anaconda3/envs/pt_fpad/lib/python3.10/site-packages/torchvision/models/_utils.py:223: UserWarning: Arguments other than a weight enum or `None` for 'weights' are deprecated since 0.13 and may be removed in the future. The current behavior is equivalent to passing `weights=MobileNet_V2_Weights.IMAGENET1K_V1`. You can also use `weights=MobileNet_V2_Weights.DEFAULT` to get the most up-to-date weights.\n",
      "  warnings.warn(msg)\n"
     ]
    }
   ],
   "source": [
    "# Load pre-trained MobileNetV2\n",
    "model = models.mobilenet_v2(pretrained=True)\n",
    "model.classifier[1] = nn.Linear(in_features=1280, out_features=2) #default in_features =1280, out_features = 1000\n",
    "# print(model)"
   ]
  },
  {
   "cell_type": "code",
   "execution_count": 9,
   "metadata": {},
   "outputs": [
    {
     "data": {
      "text/plain": [
       "<All keys matched successfully>"
      ]
     },
     "execution_count": 9,
     "metadata": {},
     "output_type": "execute_result"
    }
   ],
   "source": [
    "device = torch.device('cuda:0' if torch.cuda.is_available() else 'cpu')\n",
    "model.to(device)\n",
    "\n",
    "# Define the path to your saved model file\n",
    "model_path = '/OULUprotocols/protocol_I/OULUNPU_prot_I.pth' # before OULU_prot_I.pth after OULU_prot_I_FB.pth before OULU_prot_II.pth after OULU_prot_II_FB.pth \n",
    "\n",
    "# Load the saved model\n",
    "checkpoint = torch.load(model_path)\n",
    "\n",
    "# Load the model's state dictionary\n",
    "model.load_state_dict(checkpoint)"
   ]
  },
  {
   "cell_type": "code",
   "execution_count": 10,
   "metadata": {},
   "outputs": [
    {
     "name": "stdout",
     "output_type": "stream",
     "text": [
      "Test Accuracy: 99.67%\n"
     ]
    }
   ],
   "source": [
    "# Evaluate on the validation set\n",
    "val_correct = 0\n",
    "val_total = 0\n",
    "\n",
    "model.eval()\n",
    "with torch.no_grad():\n",
    "    \n",
    "    val_cat_labels = torch.empty(0, dtype=torch.int64, device=device)\n",
    "    val_predicted_cat_labels = torch.empty(0, dtype=torch.int64, device=device)\n",
    "    val_model_op_cat = torch.empty(0, dtype=torch.int64, device=device)\n",
    "\n",
    "    for val_images, val_labels in concatenated_val_loader:\n",
    "        val_images, val_labels = val_images.to(device), val_labels.to(device)\n",
    "        val_model_op = model(val_images)\n",
    "        _, val_predicted = torch.max(val_model_op, 1)\n",
    "        val_correct += (val_predicted == val_labels).sum().item() \n",
    "        val_total += val_labels.size(0)\n",
    "\n",
    "        val_cat_labels = torch.cat((val_cat_labels, val_labels))\n",
    "        val_predicted_cat_labels = torch.cat((val_predicted_cat_labels, val_predicted))\n",
    "        val_model_op_cat = torch.cat((val_model_op_cat, val_model_op))\n",
    "\n",
    "    val_accuracy = val_correct / val_total * 100  \n",
    "    print(f'Test Accuracy: {val_accuracy:.2f}%')"
   ]
  },
  {
   "cell_type": "code",
   "execution_count": null,
   "metadata": {},
   "outputs": [],
   "source": [
    "import torch.nn.functional as F\n",
    "\n",
    "softmax_output = F.softmax(val_model_op_cat, dim=1)\n",
    "\n",
    "val_model_op_cat_second_column = softmax_output[:, 1]\n",
    "\n",
    "val_cat_labels_cpu = val_cat_labels.cpu()\n",
    "\n",
    "val_model_op_cat_second_column_cpu = val_model_op_cat_second_column.cpu()"
   ]
  },
  {
   "cell_type": "code",
   "execution_count": 27,
   "metadata": {},
   "outputs": [
    {
     "data": {
      "image/png": "[encoded data removed]",
      "text/plain": [
       "<Figure size 640x480 with 1 Axes>"
      ]
     },
     "metadata": {},
     "output_type": "display_data"
    },
    {
     "name": "stdout",
     "output_type": "stream",
     "text": [
      "EER: 0.0, Threshold: 0.5868009924888611\n"
     ]
    }
   ],
   "source": [
    "import numpy as np\n",
    "import matplotlib.pyplot as plt\n",
    "from sklearn.metrics import roc_curve\n",
    "\n",
    "# Calculate the ROC curve\n",
    "fpr, tpr, thresholds = roc_curve(val_cat_labels_cpu, val_model_op_cat_second_column_cpu)\n",
    "\n",
    "# Calculate the FNR (false negative rate)\n",
    "fnr = 1 - tpr\n",
    "\n",
    "# Find the point where FPR and FNR are closest to each other\n",
    "eer_threshold = thresholds[np.nanargmin(np.absolute((fnr - fpr)))]\n",
    "\n",
    "# Calculate the EER\n",
    "eer = fpr[np.nanargmin(np.absolute((fnr - fpr)))]\n",
    "\n",
    "# Plotting the ROC curve\n",
    "plt.figure()\n",
    "plt.plot(fpr, tpr, label='ROC curve')\n",
    "plt.plot([0, 1], [0, 1], 'k--', label='Random classifier')  # Diagonal line\n",
    "plt.plot([0, 1], [1, 0], 'r--', label='EER')  # Diagonal line added by Sir Shujaat\n",
    "plt.scatter(fpr[np.nanargmin(np.absolute((fnr - fpr)))], tpr[np.nanargmin(np.absolute((fnr - fpr)))], marker='o', color='red', label='EER point')\n",
    "plt.text(fpr[np.nanargmin(np.absolute((fnr - fpr)))], tpr[np.nanargmin(np.absolute((fnr - fpr)))], f'EER = {eer:.2f}', verticalalignment='bottom')\n",
    "\n",
    "plt.xlabel('False Positive Rate')\n",
    "plt.ylabel('True Positive Rate')\n",
    "plt.title('ROC Curve')\n",
    "plt.legend(loc='lower right')\n",
    "plt.grid()\n",
    "plt.show()\n",
    "\n",
    "print(f\"EER: {eer}, Threshold: {eer_threshold}\")\n"
   ]
  }
 ],
 "metadata": {
  "kernelspec": {
   "display_name": "pt_fpad",
   "language": "python",
   "name": "python3"
  },
  "language_info": {
   "codemirror_mode": {
    "name": "ipython",
    "version": 3
   },
   "file_extension": ".py",
   "mimetype": "text/x-python",
   "name": "python",
   "nbconvert_exporter": "python",
   "pygments_lexer": "ipython3",
   "version": "3.10.4"
  }
 },
 "nbformat": 4,
 "nbformat_minor": 2
}
