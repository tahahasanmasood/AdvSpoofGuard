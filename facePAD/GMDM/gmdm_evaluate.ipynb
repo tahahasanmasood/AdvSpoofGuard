{
 "cells": [
  {
   "cell_type": "code",
   "execution_count": 1,
   "metadata": {},
   "outputs": [
    {
     "name": "stderr",
     "output_type": "stream",
     "text": [
      "/home/taha/anaconda3/envs/pt_fpad/lib/python3.10/site-packages/tqdm/auto.py:21: TqdmWarning: IProgress not found. Please update jupyter and ipywidgets. See https://ipywidgets.readthedocs.io/en/stable/user_install.html\n",
      "  from .autonotebook import tqdm as notebook_tqdm\n"
     ]
    }
   ],
   "source": [
    "import torch\n",
    "import torch.nn as nn\n",
    "from torch.utils.data import Dataset, DataLoader, ConcatDataset\n",
    "from torchvision import transforms\n",
    "import os\n",
    "import random\n",
    "import numpy as np\n",
    "from PIL import Image"
   ]
  },
  {
   "cell_type": "code",
   "execution_count": 2,
   "metadata": {},
   "outputs": [],
   "source": [
    "data_path_real_attack = '/home/taha/Taha26/All_Experiments/FID/OULU_NPU/test_samples/real_attack_360'\n",
    "data_path_real_bonafide = '/home/taha/Taha26/All_Experiments/FID/OULU_NPU/test_samples/real_bonafide_360'\n",
    "data_path_fake_bonafide = '/home/taha/Taha26/All_Experiments/FID/OULU_NPU/test_samples/fake_bonafide_360'\n",
    "data_path_fake_attack = '/home/taha/Taha26/All_Experiments/FID/OULU_NPU/test_samples/fake_attack_360'"
   ]
  },
  {
   "cell_type": "code",
   "execution_count": 3,
   "metadata": {},
   "outputs": [],
   "source": [
    "def load_samples_image(image_path, transform):\n",
    "    image = Image.open(image_path).convert('RGB') # It uses PIL (Pillow) library to open the image, convert it to the RGB mode\n",
    "    sample = (transform(image)) # Apply transformation\n",
    "    return sample\n",
    "\n",
    "class ImageDataset(Dataset):\n",
    "    def __init__(self, data_path):\n",
    "        self.data_path = data_path\n",
    "        self.image_files = [file for file in os.listdir(data_path) if file.endswith(('.png', '.jpg', '.jpeg'))]\n",
    "        self.data_length = len(self.image_files)\n",
    "        self.transform = transforms.Compose([transforms.Resize((256, 256)),\n",
    "                                             transforms.ToTensor()])\n",
    "\n",
    "    def __len__(self):\n",
    "        return self.data_length\n",
    "\n",
    "    def __getitem__(self, idx):\n",
    "        file = self.image_files[idx]\n",
    "        path = os.path.join(self.data_path, file)\n",
    "        sample = load_samples_image(path, self.transform)\n",
    "        return sample"
   ]
  },
  {
   "cell_type": "code",
   "execution_count": 4,
   "metadata": {},
   "outputs": [],
   "source": [
    "real_attack = ImageDataset(data_path_real_attack)\n",
    "real_bonafide = ImageDataset(data_path_real_bonafide)\n",
    "fake_bonafide = ImageDataset(data_path_fake_bonafide)\n",
    "fake_attack = ImageDataset(data_path_fake_attack)"
   ]
  },
  {
   "cell_type": "code",
   "execution_count": 5,
   "metadata": {},
   "outputs": [
    {
     "name": "stdout",
     "output_type": "stream",
     "text": [
      "Total No of Real Attack Samples: 360\n",
      "Total No of Real Bonafide Samples: 360\n",
      "Total No of Fake Bonafide Samples: 360\n",
      "Total No of Fake Attack Samples: 360\n"
     ]
    }
   ],
   "source": [
    "print(\"Total No of Real Attack Samples:\", len(real_attack))\n",
    "print(\"Total No of Real Bonafide Samples:\", len(real_bonafide))\n",
    "print(\"Total No of Fake Bonafide Samples:\", len(fake_bonafide))\n",
    "print(\"Total No of Fake Attack Samples:\", len(fake_attack))"
   ]
  },
  {
   "cell_type": "code",
   "execution_count": 6,
   "metadata": {},
   "outputs": [],
   "source": [
    "first_dataloader = DataLoader(real_attack, batch_size=32, shuffle=False, num_workers=8)\n",
    "second_dataloader = DataLoader(real_bonafide, batch_size=32, shuffle=False, num_workers=8)\n",
    "third_dataloader = DataLoader(fake_bonafide, batch_size=32, shuffle=False, num_workers=8)\n",
    "fourth_dataloader = DataLoader(fake_attack, batch_size=32, shuffle=False, num_workers=8)"
   ]
  },
  {
   "cell_type": "code",
   "execution_count": null,
   "metadata": {},
   "outputs": [],
   "source": [
    "# for images in first_dataloader:\n",
    "#     print(f\"Images Shape: {images.shape}\")"
   ]
  },
  {
   "cell_type": "code",
   "execution_count": null,
   "metadata": {},
   "outputs": [],
   "source": [
    "# for images in second_dataloader:\n",
    "#     print(f\"Images Shape: {images.shape}\")"
   ]
  },
  {
   "cell_type": "code",
   "execution_count": 7,
   "metadata": {},
   "outputs": [],
   "source": [
    "all_images_1 = None\n",
    "\n",
    "#distribution 1\n",
    "for img in first_dataloader:\n",
    "    if all_images_1 is None:\n",
    "        all_images_1 = img.detach().numpy()\n",
    "    else:\n",
    "        all_images_1 = np.concatenate((all_images_1, img.detach().numpy()), axis=0)"
   ]
  },
  {
   "cell_type": "code",
   "execution_count": 8,
   "metadata": {},
   "outputs": [],
   "source": [
    "all_images_2 = None\n",
    "\n",
    "#distribution 2\n",
    "for img2 in second_dataloader:\n",
    "    if all_images_2 is None:\n",
    "        all_images_2 = img2.detach().numpy()\n",
    "    else:\n",
    "        all_images_2 = np.concatenate((all_images_2, img2.detach().numpy()), axis=0)"
   ]
  },
  {
   "cell_type": "code",
   "execution_count": 9,
   "metadata": {},
   "outputs": [],
   "source": [
    "all_images_3 = None\n",
    "\n",
    "#distribution 3\n",
    "for img3 in third_dataloader:\n",
    "    if all_images_3 is None:\n",
    "        all_images_3 = img3.detach().numpy()\n",
    "    else:\n",
    "        all_images_3 = np.concatenate((all_images_3, img3.detach().numpy()), axis=0)"
   ]
  },
  {
   "cell_type": "code",
   "execution_count": 10,
   "metadata": {},
   "outputs": [],
   "source": [
    "all_images_4 = None\n",
    "\n",
    "#distribution 4\n",
    "for img4 in fourth_dataloader:\n",
    "    if all_images_4 is None:\n",
    "        all_images_4 = img4.detach().numpy()\n",
    "    else:\n",
    "        all_images_4 = np.concatenate((all_images_4, img4.detach().numpy()), axis=0)"
   ]
  },
  {
   "cell_type": "code",
   "execution_count": 11,
   "metadata": {},
   "outputs": [
    {
     "name": "stdout",
     "output_type": "stream",
     "text": [
      "(360, 3, 256, 256)\n",
      "(360, 3, 256, 256)\n",
      "(360, 3, 256, 256)\n",
      "(360, 3, 256, 256)\n"
     ]
    }
   ],
   "source": [
    "print(all_images_1.shape)\n",
    "print(all_images_2.shape)\n",
    "print(all_images_3.shape)\n",
    "print(all_images_4.shape)"
   ]
  },
  {
   "cell_type": "code",
   "execution_count": 12,
   "metadata": {},
   "outputs": [],
   "source": [
    "flat_all_images_1 = all_images_1.reshape(-1)\n",
    "flat_all_images_2 = all_images_2.reshape(-1)\n",
    "flat_all_images_3 = all_images_3.reshape(-1)\n",
    "flat_all_images_4 = all_images_4.reshape(-1)"
   ]
  },
  {
   "cell_type": "code",
   "execution_count": 13,
   "metadata": {},
   "outputs": [
    {
     "name": "stdout",
     "output_type": "stream",
     "text": [
      "(70778880,)\n",
      "(70778880,)\n",
      "(70778880,)\n",
      "(70778880,)\n"
     ]
    }
   ],
   "source": [
    "print(flat_all_images_1.shape) # Real Attack\n",
    "print(flat_all_images_2.shape) # Real Bonafide\n",
    "print(flat_all_images_3.shape) # Fake Bonafide\n",
    "print(flat_all_images_4.shape) # Fake Attack"
   ]
  },
  {
   "cell_type": "code",
   "execution_count": 24,
   "metadata": {},
   "outputs": [
    {
     "name": "stdout",
     "output_type": "stream",
     "text": [
      "(26,)\n",
      "(26,)\n",
      "(26,)\n",
      "(26,)\n"
     ]
    }
   ],
   "source": [
    "from gmdm import OVL\n",
    "overlap = OVL(flat_all_images_4, flat_all_images_3)"
   ]
  },
  {
   "cell_type": "code",
   "execution_count": 25,
   "metadata": {},
   "outputs": [
    {
     "name": "stdout",
     "output_type": "stream",
     "text": [
      "0.8587579232675058\n"
     ]
    }
   ],
   "source": [
    "print(overlap)"
   ]
  }
 ],
 "metadata": {
  "kernelspec": {
   "display_name": "pt_fpad",
   "language": "python",
   "name": "python3"
  },
  "language_info": {
   "codemirror_mode": {
    "name": "ipython",
    "version": 3
   },
   "file_extension": ".py",
   "mimetype": "text/x-python",
   "name": "python",
   "nbconvert_exporter": "python",
   "pygments_lexer": "ipython3",
   "version": "3.10.4"
  }
 },
 "nbformat": 4,
 "nbformat_minor": 2
}
